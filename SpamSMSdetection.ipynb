{
 "cells": [
  {
   "cell_type": "code",
   "execution_count": 88,
   "metadata": {},
   "outputs": [],
   "source": [
    "#importing dependencies\n",
    "import numpy as np\n",
    "import pandas as pd\n",
    "from sklearn.tree import DecisionTreeClassifier\n",
    "from sklearn.feature_extraction.text import TfidfVectorizer\n",
    "from sklearn import tree\n",
    "from sklearn.model_selection import train_test_split\n",
    "from sklearn.metrics import accuracy_score"
   ]
  },
  {
   "cell_type": "code",
   "execution_count": 89,
   "metadata": {},
   "outputs": [],
   "source": [
    "#loading the dataset\n",
    "df=pd.read_csv(r\"C:\\Users\\noman\\projects\\codsoft intership\\SpamSMSdetection\\spam.csv\", encoding=\"ISO-8859-1\")\n",
    "df=df.drop(['Unnamed: 2','Unnamed: 3','Unnamed: 4'], axis=1)"
   ]
  },
  {
   "cell_type": "code",
   "execution_count": 90,
   "metadata": {},
   "outputs": [
    {
     "data": {
      "text/html": [
       "<div>\n",
       "<style scoped>\n",
       "    .dataframe tbody tr th:only-of-type {\n",
       "        vertical-align: middle;\n",
       "    }\n",
       "\n",
       "    .dataframe tbody tr th {\n",
       "        vertical-align: top;\n",
       "    }\n",
       "\n",
       "    .dataframe thead th {\n",
       "        text-align: right;\n",
       "    }\n",
       "</style>\n",
       "<table border=\"1\" class=\"dataframe\">\n",
       "  <thead>\n",
       "    <tr style=\"text-align: right;\">\n",
       "      <th></th>\n",
       "      <th>v1</th>\n",
       "      <th>v2</th>\n",
       "    </tr>\n",
       "  </thead>\n",
       "  <tbody>\n",
       "    <tr>\n",
       "      <th>0</th>\n",
       "      <td>ham</td>\n",
       "      <td>Go until jurong point, crazy.. Available only ...</td>\n",
       "    </tr>\n",
       "    <tr>\n",
       "      <th>1</th>\n",
       "      <td>ham</td>\n",
       "      <td>Ok lar... Joking wif u oni...</td>\n",
       "    </tr>\n",
       "    <tr>\n",
       "      <th>2</th>\n",
       "      <td>spam</td>\n",
       "      <td>Free entry in 2 a wkly comp to win FA Cup fina...</td>\n",
       "    </tr>\n",
       "    <tr>\n",
       "      <th>3</th>\n",
       "      <td>ham</td>\n",
       "      <td>U dun say so early hor... U c already then say...</td>\n",
       "    </tr>\n",
       "    <tr>\n",
       "      <th>4</th>\n",
       "      <td>ham</td>\n",
       "      <td>Nah I don't think he goes to usf, he lives aro...</td>\n",
       "    </tr>\n",
       "    <tr>\n",
       "      <th>5</th>\n",
       "      <td>spam</td>\n",
       "      <td>FreeMsg Hey there darling it's been 3 week's n...</td>\n",
       "    </tr>\n",
       "    <tr>\n",
       "      <th>6</th>\n",
       "      <td>ham</td>\n",
       "      <td>Even my brother is not like to speak with me. ...</td>\n",
       "    </tr>\n",
       "    <tr>\n",
       "      <th>7</th>\n",
       "      <td>ham</td>\n",
       "      <td>As per your request 'Melle Melle (Oru Minnamin...</td>\n",
       "    </tr>\n",
       "    <tr>\n",
       "      <th>8</th>\n",
       "      <td>spam</td>\n",
       "      <td>WINNER!! As a valued network customer you have...</td>\n",
       "    </tr>\n",
       "    <tr>\n",
       "      <th>9</th>\n",
       "      <td>spam</td>\n",
       "      <td>Had your mobile 11 months or more? U R entitle...</td>\n",
       "    </tr>\n",
       "  </tbody>\n",
       "</table>\n",
       "</div>"
      ],
      "text/plain": [
       "     v1                                                 v2\n",
       "0   ham  Go until jurong point, crazy.. Available only ...\n",
       "1   ham                      Ok lar... Joking wif u oni...\n",
       "2  spam  Free entry in 2 a wkly comp to win FA Cup fina...\n",
       "3   ham  U dun say so early hor... U c already then say...\n",
       "4   ham  Nah I don't think he goes to usf, he lives aro...\n",
       "5  spam  FreeMsg Hey there darling it's been 3 week's n...\n",
       "6   ham  Even my brother is not like to speak with me. ...\n",
       "7   ham  As per your request 'Melle Melle (Oru Minnamin...\n",
       "8  spam  WINNER!! As a valued network customer you have...\n",
       "9  spam  Had your mobile 11 months or more? U R entitle..."
      ]
     },
     "execution_count": 90,
     "metadata": {},
     "output_type": "execute_result"
    }
   ],
   "source": [
    "df.head(10)"
   ]
  },
  {
   "cell_type": "code",
   "execution_count": 91,
   "metadata": {},
   "outputs": [
    {
     "name": "stdout",
     "output_type": "stream",
     "text": [
      "<class 'pandas.core.frame.DataFrame'>\n",
      "RangeIndex: 5572 entries, 0 to 5571\n",
      "Data columns (total 2 columns):\n",
      " #   Column  Non-Null Count  Dtype \n",
      "---  ------  --------------  ----- \n",
      " 0   v1      5572 non-null   object\n",
      " 1   v2      5572 non-null   object\n",
      "dtypes: object(2)\n",
      "memory usage: 87.2+ KB\n"
     ]
    }
   ],
   "source": [
    "df.info()"
   ]
  },
  {
   "cell_type": "code",
   "execution_count": 92,
   "metadata": {},
   "outputs": [],
   "source": [
    "#label encoding\n",
    "df.loc[df['v1'] == 'spam','v1']=0\n",
    "df.loc[df['v1'] == 'ham','v1']=1"
   ]
  },
  {
   "cell_type": "code",
   "execution_count": 93,
   "metadata": {},
   "outputs": [
    {
     "data": {
      "text/html": [
       "<div>\n",
       "<style scoped>\n",
       "    .dataframe tbody tr th:only-of-type {\n",
       "        vertical-align: middle;\n",
       "    }\n",
       "\n",
       "    .dataframe tbody tr th {\n",
       "        vertical-align: top;\n",
       "    }\n",
       "\n",
       "    .dataframe thead th {\n",
       "        text-align: right;\n",
       "    }\n",
       "</style>\n",
       "<table border=\"1\" class=\"dataframe\">\n",
       "  <thead>\n",
       "    <tr style=\"text-align: right;\">\n",
       "      <th></th>\n",
       "      <th>v1</th>\n",
       "      <th>v2</th>\n",
       "    </tr>\n",
       "  </thead>\n",
       "  <tbody>\n",
       "    <tr>\n",
       "      <th>0</th>\n",
       "      <td>1</td>\n",
       "      <td>Go until jurong point, crazy.. Available only ...</td>\n",
       "    </tr>\n",
       "    <tr>\n",
       "      <th>1</th>\n",
       "      <td>1</td>\n",
       "      <td>Ok lar... Joking wif u oni...</td>\n",
       "    </tr>\n",
       "    <tr>\n",
       "      <th>2</th>\n",
       "      <td>0</td>\n",
       "      <td>Free entry in 2 a wkly comp to win FA Cup fina...</td>\n",
       "    </tr>\n",
       "    <tr>\n",
       "      <th>3</th>\n",
       "      <td>1</td>\n",
       "      <td>U dun say so early hor... U c already then say...</td>\n",
       "    </tr>\n",
       "    <tr>\n",
       "      <th>4</th>\n",
       "      <td>1</td>\n",
       "      <td>Nah I don't think he goes to usf, he lives aro...</td>\n",
       "    </tr>\n",
       "  </tbody>\n",
       "</table>\n",
       "</div>"
      ],
      "text/plain": [
       "  v1                                                 v2\n",
       "0  1  Go until jurong point, crazy.. Available only ...\n",
       "1  1                      Ok lar... Joking wif u oni...\n",
       "2  0  Free entry in 2 a wkly comp to win FA Cup fina...\n",
       "3  1  U dun say so early hor... U c already then say...\n",
       "4  1  Nah I don't think he goes to usf, he lives aro..."
      ]
     },
     "execution_count": 93,
     "metadata": {},
     "output_type": "execute_result"
    }
   ],
   "source": [
    "df.head()"
   ]
  },
  {
   "cell_type": "code",
   "execution_count": 94,
   "metadata": {},
   "outputs": [
    {
     "name": "stdout",
     "output_type": "stream",
     "text": [
      "<class 'pandas.core.frame.DataFrame'>\n",
      "RangeIndex: 5572 entries, 0 to 5571\n",
      "Data columns (total 2 columns):\n",
      " #   Column  Non-Null Count  Dtype \n",
      "---  ------  --------------  ----- \n",
      " 0   v1      5572 non-null   object\n",
      " 1   v2      5572 non-null   object\n",
      "dtypes: object(2)\n",
      "memory usage: 87.2+ KB\n"
     ]
    }
   ],
   "source": [
    "df.info()"
   ]
  },
  {
   "cell_type": "code",
   "execution_count": 95,
   "metadata": {},
   "outputs": [],
   "source": [
    "#converting dependent column to int from string\n",
    "df['v1']=df['v1'].astype('int')"
   ]
  },
  {
   "cell_type": "code",
   "execution_count": 96,
   "metadata": {},
   "outputs": [
    {
     "name": "stdout",
     "output_type": "stream",
     "text": [
      "<class 'pandas.core.frame.DataFrame'>\n",
      "RangeIndex: 5572 entries, 0 to 5571\n",
      "Data columns (total 2 columns):\n",
      " #   Column  Non-Null Count  Dtype \n",
      "---  ------  --------------  ----- \n",
      " 0   v1      5572 non-null   int32 \n",
      " 1   v2      5572 non-null   object\n",
      "dtypes: int32(1), object(1)\n",
      "memory usage: 65.4+ KB\n"
     ]
    }
   ],
   "source": [
    "df.info()"
   ]
  },
  {
   "cell_type": "code",
   "execution_count": 97,
   "metadata": {},
   "outputs": [],
   "source": [
    "x=df['v2']\n",
    "y=df['v1']"
   ]
  },
  {
   "cell_type": "code",
   "execution_count": 98,
   "metadata": {},
   "outputs": [],
   "source": [
    "x_train,x_test,y_train,y_test=train_test_split(x,y,test_size=0.2, shuffle=True)"
   ]
  },
  {
   "cell_type": "code",
   "execution_count": 100,
   "metadata": {},
   "outputs": [],
   "source": [
    "#making an instance of the tf-idf vectorizer\n",
    "vectorizer=TfidfVectorizer(min_df=1, stop_words='english', lowercase=True)"
   ]
  },
  {
   "cell_type": "code",
   "execution_count": 101,
   "metadata": {},
   "outputs": [],
   "source": [
    "x_train_features=vectorizer.fit_transform(x_train)\n",
    "x_test_features=vectorizer.transform(x_test)"
   ]
  },
  {
   "cell_type": "code",
   "execution_count": 87,
   "metadata": {},
   "outputs": [
    {
     "name": "stdout",
     "output_type": "stream",
     "text": [
      "  (0, 3215)\t0.4906168101233951\n",
      "  (0, 2448)\t0.42851704695516457\n",
      "  (0, 3996)\t0.3223568006288234\n",
      "  (0, 3957)\t0.5030622546639323\n",
      "  (0, 2450)\t0.4676352714605261\n",
      "  (1, 4758)\t0.3183852852738443\n",
      "  (1, 1184)\t0.5919681759249492\n",
      "  (1, 6989)\t0.31244358988493304\n",
      "  (1, 1410)\t0.6712551615838772\n",
      "  (2, 6010)\t0.28939086606892894\n",
      "  (2, 5747)\t0.25937974986915113\n",
      "  (2, 6701)\t0.17113043087057567\n",
      "  (2, 5994)\t0.29948465774551486\n",
      "  (2, 4296)\t0.20998011171659448\n",
      "  (2, 2293)\t0.29948465774551486\n",
      "  (2, 6699)\t0.25937974986915113\n",
      "  (2, 5737)\t0.6996012490463888\n",
      "  (2, 3325)\t0.19873579835520938\n",
      "  (3, 6765)\t0.516834177867194\n",
      "  (3, 4907)\t0.4687901929284765\n",
      "  (3, 5023)\t0.3679201326500963\n",
      "  (3, 6738)\t0.31069294897187494\n",
      "  (3, 2908)\t0.28987311800338217\n",
      "  (3, 3215)\t0.44406804716317555\n",
      "  (4, 1724)\t0.4462438758975762\n",
      "  :\t:\n",
      "  (4451, 6603)\t0.2771218552591541\n",
      "  (4451, 2908)\t0.1301111843527049\n",
      "  (4452, 2261)\t1.0\n",
      "  (4453, 813)\t0.4245699011695784\n",
      "  (4453, 2442)\t0.3837260430704534\n",
      "  (4453, 2948)\t0.3746426785710667\n",
      "  (4453, 7166)\t0.2595799778753488\n",
      "  (4453, 4437)\t0.32843828737843883\n",
      "  (4453, 1612)\t0.3179088323541576\n",
      "  (4453, 5432)\t0.30990669509917745\n",
      "  (4453, 2373)\t0.2734296664174574\n",
      "  (4453, 3325)\t0.29156842236489594\n",
      "  (4454, 3378)\t0.5714208870074976\n",
      "  (4454, 3957)\t0.8206571573389003\n",
      "  (4455, 6900)\t0.7672515701835398\n",
      "  (4455, 5539)\t0.418321436210897\n",
      "  (4455, 4758)\t0.34697534056143936\n",
      "  (4455, 6989)\t0.3405000985309962\n",
      "  (4456, 6919)\t0.4213967749331994\n",
      "  (4456, 5946)\t0.4213967749331994\n",
      "  (4456, 2521)\t0.4213967749331994\n",
      "  (4456, 6012)\t0.40177849040769364\n",
      "  (4456, 1085)\t0.3308302947414679\n",
      "  (4456, 6497)\t0.40177849040769364\n",
      "  (4456, 6989)\t0.18701251188195572\n"
     ]
    }
   ],
   "source": [
    "#printing the feature matrix that we have got\n",
    "print(x_train_features)"
   ]
  },
  {
   "cell_type": "code",
   "execution_count": 105,
   "metadata": {},
   "outputs": [],
   "source": [
    "#making an instance of the classifier model\n",
    "classifier=DecisionTreeClassifier(criterion='gini')"
   ]
  },
  {
   "cell_type": "code",
   "execution_count": 106,
   "metadata": {},
   "outputs": [
    {
     "data": {
      "text/html": [
       "<style>#sk-container-id-2 {color: black;}#sk-container-id-2 pre{padding: 0;}#sk-container-id-2 div.sk-toggleable {background-color: white;}#sk-container-id-2 label.sk-toggleable__label {cursor: pointer;display: block;width: 100%;margin-bottom: 0;padding: 0.3em;box-sizing: border-box;text-align: center;}#sk-container-id-2 label.sk-toggleable__label-arrow:before {content: \"▸\";float: left;margin-right: 0.25em;color: #696969;}#sk-container-id-2 label.sk-toggleable__label-arrow:hover:before {color: black;}#sk-container-id-2 div.sk-estimator:hover label.sk-toggleable__label-arrow:before {color: black;}#sk-container-id-2 div.sk-toggleable__content {max-height: 0;max-width: 0;overflow: hidden;text-align: left;background-color: #f0f8ff;}#sk-container-id-2 div.sk-toggleable__content pre {margin: 0.2em;color: black;border-radius: 0.25em;background-color: #f0f8ff;}#sk-container-id-2 input.sk-toggleable__control:checked~div.sk-toggleable__content {max-height: 200px;max-width: 100%;overflow: auto;}#sk-container-id-2 input.sk-toggleable__control:checked~label.sk-toggleable__label-arrow:before {content: \"▾\";}#sk-container-id-2 div.sk-estimator input.sk-toggleable__control:checked~label.sk-toggleable__label {background-color: #d4ebff;}#sk-container-id-2 div.sk-label input.sk-toggleable__control:checked~label.sk-toggleable__label {background-color: #d4ebff;}#sk-container-id-2 input.sk-hidden--visually {border: 0;clip: rect(1px 1px 1px 1px);clip: rect(1px, 1px, 1px, 1px);height: 1px;margin: -1px;overflow: hidden;padding: 0;position: absolute;width: 1px;}#sk-container-id-2 div.sk-estimator {font-family: monospace;background-color: #f0f8ff;border: 1px dotted black;border-radius: 0.25em;box-sizing: border-box;margin-bottom: 0.5em;}#sk-container-id-2 div.sk-estimator:hover {background-color: #d4ebff;}#sk-container-id-2 div.sk-parallel-item::after {content: \"\";width: 100%;border-bottom: 1px solid gray;flex-grow: 1;}#sk-container-id-2 div.sk-label:hover label.sk-toggleable__label {background-color: #d4ebff;}#sk-container-id-2 div.sk-serial::before {content: \"\";position: absolute;border-left: 1px solid gray;box-sizing: border-box;top: 0;bottom: 0;left: 50%;z-index: 0;}#sk-container-id-2 div.sk-serial {display: flex;flex-direction: column;align-items: center;background-color: white;padding-right: 0.2em;padding-left: 0.2em;position: relative;}#sk-container-id-2 div.sk-item {position: relative;z-index: 1;}#sk-container-id-2 div.sk-parallel {display: flex;align-items: stretch;justify-content: center;background-color: white;position: relative;}#sk-container-id-2 div.sk-item::before, #sk-container-id-2 div.sk-parallel-item::before {content: \"\";position: absolute;border-left: 1px solid gray;box-sizing: border-box;top: 0;bottom: 0;left: 50%;z-index: -1;}#sk-container-id-2 div.sk-parallel-item {display: flex;flex-direction: column;z-index: 1;position: relative;background-color: white;}#sk-container-id-2 div.sk-parallel-item:first-child::after {align-self: flex-end;width: 50%;}#sk-container-id-2 div.sk-parallel-item:last-child::after {align-self: flex-start;width: 50%;}#sk-container-id-2 div.sk-parallel-item:only-child::after {width: 0;}#sk-container-id-2 div.sk-dashed-wrapped {border: 1px dashed gray;margin: 0 0.4em 0.5em 0.4em;box-sizing: border-box;padding-bottom: 0.4em;background-color: white;}#sk-container-id-2 div.sk-label label {font-family: monospace;font-weight: bold;display: inline-block;line-height: 1.2em;}#sk-container-id-2 div.sk-label-container {text-align: center;}#sk-container-id-2 div.sk-container {/* jupyter's `normalize.less` sets `[hidden] { display: none; }` but bootstrap.min.css set `[hidden] { display: none !important; }` so we also need the `!important` here to be able to override the default hidden behavior on the sphinx rendered scikit-learn.org. See: https://github.com/scikit-learn/scikit-learn/issues/21755 */display: inline-block !important;position: relative;}#sk-container-id-2 div.sk-text-repr-fallback {display: none;}</style><div id=\"sk-container-id-2\" class=\"sk-top-container\"><div class=\"sk-text-repr-fallback\"><pre>DecisionTreeClassifier()</pre><b>In a Jupyter environment, please rerun this cell to show the HTML representation or trust the notebook. <br />On GitHub, the HTML representation is unable to render, please try loading this page with nbviewer.org.</b></div><div class=\"sk-container\" hidden><div class=\"sk-item\"><div class=\"sk-estimator sk-toggleable\"><input class=\"sk-toggleable__control sk-hidden--visually\" id=\"sk-estimator-id-2\" type=\"checkbox\" checked><label for=\"sk-estimator-id-2\" class=\"sk-toggleable__label sk-toggleable__label-arrow\">DecisionTreeClassifier</label><div class=\"sk-toggleable__content\"><pre>DecisionTreeClassifier()</pre></div></div></div></div></div>"
      ],
      "text/plain": [
       "DecisionTreeClassifier()"
      ]
     },
     "execution_count": 106,
     "metadata": {},
     "output_type": "execute_result"
    }
   ],
   "source": [
    "classifier.fit(x_train_features,y_train)"
   ]
  },
  {
   "cell_type": "code",
   "execution_count": 104,
   "metadata": {},
   "outputs": [
    {
     "data": {
      "text/plain": [
       "[Text(0.8993869936034116, 0.9928571428571429, 'x[6809] <= 0.055\\ngini = 0.235\\nsamples = 4457\\nvalue = [607, 3850]'),\n",
       " Text(0.8328891257995735, 0.9785714285714285, 'x[1759] <= 0.069\\ngini = 0.201\\nsamples = 4331\\nvalue = [492, 3839]'),\n",
       " Text(0.8243603411513859, 0.9642857142857143, 'x[2881] <= 0.076\\ngini = 0.177\\nsamples = 4256\\nvalue = [417, 3839]'),\n",
       " Text(0.7745202558635395, 0.95, 'x[7327] <= 0.069\\ngini = 0.145\\nsamples = 4115\\nvalue = [325, 3790]'),\n",
       " Text(0.7659914712153518, 0.9357142857142857, 'x[5801] <= 0.076\\ngini = 0.128\\nsamples = 4070\\nvalue = [280, 3790]'),\n",
       " Text(0.7281449893390192, 0.9214285714285714, 'x[6914] <= 0.161\\ngini = 0.114\\nsamples = 4031\\nvalue = [244, 3787]'),\n",
       " Text(0.6950959488272921, 0.9071428571428571, 'x[311] <= 0.077\\ngini = 0.102\\nsamples = 3999\\nvalue = [216, 3783]'),\n",
       " Text(0.6865671641791045, 0.8928571428571429, 'x[537] <= 0.074\\ngini = 0.095\\nsamples = 3981\\nvalue = [198, 3783]'),\n",
       " Text(0.6631130063965884, 0.8785714285714286, 'x[6988] <= 0.095\\ngini = 0.086\\nsamples = 3960\\nvalue = [179, 3781]'),\n",
       " Text(0.6545842217484008, 0.8642857142857143, 'x[6835] <= 0.068\\ngini = 0.081\\nsamples = 3947\\nvalue = [166, 3781]'),\n",
       " Text(0.6332622601279317, 0.85, 'x[5206] <= 0.096\\ngini = 0.076\\nsamples = 3935\\nvalue = [155, 3780]'),\n",
       " Text(0.6162046908315565, 0.8357142857142857, 'x[5354] <= 0.164\\ngini = 0.071\\nsamples = 3924\\nvalue = [145, 3779]'),\n",
       " Text(0.6076759061833689, 0.8214285714285714, 'x[6586] <= 0.288\\ngini = 0.067\\nsamples = 3915\\nvalue = [136, 3779]'),\n",
       " Text(0.5991471215351812, 0.8071428571428572, 'x[1139] <= 0.097\\ngini = 0.063\\nsamples = 3907\\nvalue = [128, 3779]'),\n",
       " Text(0.5906183368869936, 0.7928571428571428, 'x[6890] <= 0.108\\ngini = 0.06\\nsamples = 3899\\nvalue = [120, 3779]'),\n",
       " Text(0.582089552238806, 0.7785714285714286, 'x[2887] <= 0.096\\ngini = 0.057\\nsamples = 3893\\nvalue = [114, 3779]'),\n",
       " Text(0.5735607675906184, 0.7642857142857142, 'x[4386] <= 0.073\\ngini = 0.054\\nsamples = 3888\\nvalue = [109, 3779]'),\n",
       " Text(0.5522388059701493, 0.75, 'x[1138] <= 0.111\\ngini = 0.05\\nsamples = 3869\\nvalue = [99, 3770]'),\n",
       " Text(0.5437100213219617, 0.7357142857142858, 'x[5209] <= 0.111\\ngini = 0.047\\nsamples = 3864\\nvalue = [94, 3770]'),\n",
       " Text(0.535181236673774, 0.7214285714285714, 'x[6687] <= 0.11\\ngini = 0.046\\nsamples = 3860\\nvalue = [90, 3770]'),\n",
       " Text(0.5266524520255863, 0.7071428571428572, 'x[6016] <= 0.151\\ngini = 0.044\\nsamples = 3856\\nvalue = [86, 3770]'),\n",
       " Text(0.4968017057569296, 0.6928571428571428, 'x[1835] <= 0.172\\ngini = 0.04\\nsamples = 3838\\nvalue = [78, 3760]'),\n",
       " Text(0.47974413646055436, 0.6785714285714286, 'x[327] <= 0.081\\ngini = 0.037\\nsamples = 3827\\nvalue = [72, 3755]'),\n",
       " Text(0.47121535181236673, 0.6642857142857143, 'x[362] <= 0.128\\ngini = 0.035\\nsamples = 3824\\nvalue = [69, 3755]'),\n",
       " Text(0.4626865671641791, 0.65, 'x[7026] <= 0.315\\ngini = 0.034\\nsamples = 3821\\nvalue = [66, 3755]'),\n",
       " Text(0.4541577825159915, 0.6357142857142857, 'x[7215] <= 0.078\\ngini = 0.032\\nsamples = 3818\\nvalue = [63, 3755]'),\n",
       " Text(0.43283582089552236, 0.6214285714285714, 'x[2059] <= 0.093\\ngini = 0.03\\nsamples = 3809\\nvalue = [58, 3751]'),\n",
       " Text(0.4157782515991471, 0.6071428571428571, 'x[640] <= 0.13\\ngini = 0.028\\nsamples = 3802\\nvalue = [54, 3748]'),\n",
       " Text(0.4072494669509595, 0.5928571428571429, 'x[858] <= 0.373\\ngini = 0.027\\nsamples = 3800\\nvalue = [52, 3748]'),\n",
       " Text(0.39872068230277186, 0.5785714285714286, 'x[1563] <= 0.123\\ngini = 0.026\\nsamples = 3798\\nvalue = [50, 3748]'),\n",
       " Text(0.39019189765458423, 0.5642857142857143, 'x[276] <= 0.133\\ngini = 0.025\\nsamples = 3796\\nvalue = [48, 3748]'),\n",
       " Text(0.3816631130063966, 0.55, 'x[5722] <= 0.11\\ngini = 0.024\\nsamples = 3794\\nvalue = [46, 3748]'),\n",
       " Text(0.373134328358209, 0.5357142857142857, 'x[5567] <= 0.16\\ngini = 0.023\\nsamples = 3792\\nvalue = [44, 3748]'),\n",
       " Text(0.3646055437100213, 0.5214285714285715, 'x[5796] <= 0.115\\ngini = 0.022\\nsamples = 3790\\nvalue = [42, 3748]'),\n",
       " Text(0.3368869936034115, 0.5071428571428571, 'x[1683] <= 0.087\\ngini = 0.021\\nsamples = 3787\\nvalue = [40, 3747]'),\n",
       " Text(0.3070362473347548, 0.4928571428571429, 'x[4298] <= 0.444\\ngini = 0.019\\nsamples = 3774\\nvalue = [36, 3738]'),\n",
       " Text(0.2899786780383795, 0.4785714285714286, 'x[1182] <= 0.146\\ngini = 0.017\\nsamples = 3766\\nvalue = [33, 3733]'),\n",
       " Text(0.2814498933901919, 0.4642857142857143, 'x[4239] <= 0.101\\ngini = 0.017\\nsamples = 3765\\nvalue = [32, 3733]'),\n",
       " Text(0.27292110874200426, 0.45, 'x[3008] <= 0.124\\ngini = 0.016\\nsamples = 3764\\nvalue = [31, 3733]'),\n",
       " Text(0.26439232409381663, 0.4357142857142857, 'x[5991] <= 0.19\\ngini = 0.016\\nsamples = 3763\\nvalue = [30, 3733]'),\n",
       " Text(0.255863539445629, 0.42142857142857143, 'x[3773] <= 0.224\\ngini = 0.015\\nsamples = 3762\\nvalue = [29, 3733]'),\n",
       " Text(0.24733475479744135, 0.40714285714285714, 'x[6600] <= 0.331\\ngini = 0.015\\nsamples = 3761\\nvalue = [28, 3733]'),\n",
       " Text(0.23880597014925373, 0.39285714285714285, 'x[6356] <= 0.318\\ngini = 0.014\\nsamples = 3760\\nvalue = [27, 3733]'),\n",
       " Text(0.2302771855010661, 0.37857142857142856, 'x[1901] <= 0.28\\ngini = 0.014\\nsamples = 3759\\nvalue = [26, 3733]'),\n",
       " Text(0.22174840085287847, 0.36428571428571427, 'x[4790] <= 0.423\\ngini = 0.013\\nsamples = 3758\\nvalue = [25, 3733]'),\n",
       " Text(0.21321961620469082, 0.35, 'x[483] <= 0.174\\ngini = 0.013\\nsamples = 3757\\nvalue = [24, 3733]'),\n",
       " Text(0.2046908315565032, 0.3357142857142857, 'x[140] <= 0.227\\ngini = 0.012\\nsamples = 3756\\nvalue = [23, 3733]'),\n",
       " Text(0.19616204690831557, 0.32142857142857145, 'x[965] <= 0.24\\ngini = 0.012\\nsamples = 3755\\nvalue = [22, 3733]'),\n",
       " Text(0.18763326226012794, 0.30714285714285716, 'x[829] <= 0.218\\ngini = 0.011\\nsamples = 3754\\nvalue = [21, 3733]'),\n",
       " Text(0.1791044776119403, 0.29285714285714287, 'x[6931] <= 0.244\\ngini = 0.011\\nsamples = 3753\\nvalue = [20, 3733]'),\n",
       " Text(0.17057569296375266, 0.2785714285714286, 'x[1361] <= 0.162\\ngini = 0.01\\nsamples = 3752\\nvalue = [19, 3733]'),\n",
       " Text(0.16204690831556504, 0.2642857142857143, 'x[5410] <= 0.184\\ngini = 0.01\\nsamples = 3751\\nvalue = [18, 3733]'),\n",
       " Text(0.1535181236673774, 0.25, 'x[1721] <= 0.292\\ngini = 0.009\\nsamples = 3750\\nvalue = [17, 3733]'),\n",
       " Text(0.14498933901918976, 0.2357142857142857, 'x[5814] <= 0.141\\ngini = 0.008\\nsamples = 3749\\nvalue = [16, 3733]'),\n",
       " Text(0.13646055437100213, 0.22142857142857142, 'x[4674] <= 0.371\\ngini = 0.008\\nsamples = 3748\\nvalue = [15, 3733]'),\n",
       " Text(0.1279317697228145, 0.20714285714285716, 'x[4609] <= 0.17\\ngini = 0.007\\nsamples = 3747\\nvalue = [14, 3733]'),\n",
       " Text(0.11940298507462686, 0.19285714285714287, 'x[400] <= 0.15\\ngini = 0.007\\nsamples = 3746\\nvalue = [13, 3733]'),\n",
       " Text(0.11087420042643924, 0.17857142857142858, 'x[7223] <= 0.262\\ngini = 0.006\\nsamples = 3745\\nvalue = [12, 3733]'),\n",
       " Text(0.1023454157782516, 0.16428571428571428, 'x[6420] <= 0.223\\ngini = 0.006\\nsamples = 3744\\nvalue = [11, 3733]'),\n",
       " Text(0.09381663113006397, 0.15, 'x[2104] <= 0.207\\ngini = 0.005\\nsamples = 3743\\nvalue = [10, 3733]'),\n",
       " Text(0.08528784648187633, 0.1357142857142857, 'x[65] <= 0.268\\ngini = 0.005\\nsamples = 3742\\nvalue = [9, 3733]'),\n",
       " Text(0.0767590618336887, 0.12142857142857143, 'x[25] <= 0.296\\ngini = 0.004\\nsamples = 3741\\nvalue = [8, 3733]'),\n",
       " Text(0.06823027718550106, 0.10714285714285714, 'x[2111] <= 0.151\\ngini = 0.004\\nsamples = 3740\\nvalue = [7, 3733]'),\n",
       " Text(0.05970149253731343, 0.09285714285714286, 'x[6673] <= 0.212\\ngini = 0.003\\nsamples = 3739\\nvalue = [6, 3733]'),\n",
       " Text(0.0511727078891258, 0.07857142857142857, 'x[2171] <= 0.208\\ngini = 0.003\\nsamples = 3738\\nvalue = [5, 3733]'),\n",
       " Text(0.042643923240938165, 0.06428571428571428, 'x[184] <= 0.171\\ngini = 0.002\\nsamples = 3737\\nvalue = [4, 3733]'),\n",
       " Text(0.03411513859275053, 0.05, 'x[88] <= 0.188\\ngini = 0.002\\nsamples = 3736\\nvalue = [3, 3733]'),\n",
       " Text(0.0255863539445629, 0.03571428571428571, 'x[305] <= 0.5\\ngini = 0.001\\nsamples = 3735\\nvalue = [2, 3733]'),\n",
       " Text(0.017057569296375266, 0.02142857142857143, 'x[3032] <= 0.442\\ngini = 0.001\\nsamples = 3734\\nvalue = [1, 3733]'),\n",
       " Text(0.008528784648187633, 0.007142857142857143, 'gini = 0.0\\nsamples = 3733\\nvalue = [0, 3733]'),\n",
       " Text(0.0255863539445629, 0.007142857142857143, 'gini = 0.0\\nsamples = 1\\nvalue = [1, 0]'),\n",
       " Text(0.03411513859275053, 0.02142857142857143, 'gini = 0.0\\nsamples = 1\\nvalue = [1, 0]'),\n",
       " Text(0.042643923240938165, 0.03571428571428571, 'gini = 0.0\\nsamples = 1\\nvalue = [1, 0]'),\n",
       " Text(0.0511727078891258, 0.05, 'gini = 0.0\\nsamples = 1\\nvalue = [1, 0]'),\n",
       " Text(0.05970149253731343, 0.06428571428571428, 'gini = 0.0\\nsamples = 1\\nvalue = [1, 0]'),\n",
       " Text(0.06823027718550106, 0.07857142857142857, 'gini = 0.0\\nsamples = 1\\nvalue = [1, 0]'),\n",
       " Text(0.0767590618336887, 0.09285714285714286, 'gini = 0.0\\nsamples = 1\\nvalue = [1, 0]'),\n",
       " Text(0.08528784648187633, 0.10714285714285714, 'gini = 0.0\\nsamples = 1\\nvalue = [1, 0]'),\n",
       " Text(0.09381663113006397, 0.12142857142857143, 'gini = 0.0\\nsamples = 1\\nvalue = [1, 0]'),\n",
       " Text(0.1023454157782516, 0.1357142857142857, 'gini = 0.0\\nsamples = 1\\nvalue = [1, 0]'),\n",
       " Text(0.11087420042643924, 0.15, 'gini = 0.0\\nsamples = 1\\nvalue = [1, 0]'),\n",
       " Text(0.11940298507462686, 0.16428571428571428, 'gini = 0.0\\nsamples = 1\\nvalue = [1, 0]'),\n",
       " Text(0.1279317697228145, 0.17857142857142858, 'gini = 0.0\\nsamples = 1\\nvalue = [1, 0]'),\n",
       " Text(0.13646055437100213, 0.19285714285714287, 'gini = 0.0\\nsamples = 1\\nvalue = [1, 0]'),\n",
       " Text(0.14498933901918976, 0.20714285714285716, 'gini = 0.0\\nsamples = 1\\nvalue = [1, 0]'),\n",
       " Text(0.1535181236673774, 0.22142857142857142, 'gini = 0.0\\nsamples = 1\\nvalue = [1, 0]'),\n",
       " Text(0.16204690831556504, 0.2357142857142857, 'gini = 0.0\\nsamples = 1\\nvalue = [1, 0]'),\n",
       " Text(0.17057569296375266, 0.25, 'gini = 0.0\\nsamples = 1\\nvalue = [1, 0]'),\n",
       " Text(0.1791044776119403, 0.2642857142857143, 'gini = 0.0\\nsamples = 1\\nvalue = [1, 0]'),\n",
       " Text(0.18763326226012794, 0.2785714285714286, 'gini = 0.0\\nsamples = 1\\nvalue = [1, 0]'),\n",
       " Text(0.19616204690831557, 0.29285714285714287, 'gini = 0.0\\nsamples = 1\\nvalue = [1, 0]'),\n",
       " Text(0.2046908315565032, 0.30714285714285716, 'gini = 0.0\\nsamples = 1\\nvalue = [1, 0]'),\n",
       " Text(0.21321961620469082, 0.32142857142857145, 'gini = 0.0\\nsamples = 1\\nvalue = [1, 0]'),\n",
       " Text(0.22174840085287847, 0.3357142857142857, 'gini = 0.0\\nsamples = 1\\nvalue = [1, 0]'),\n",
       " Text(0.2302771855010661, 0.35, 'gini = 0.0\\nsamples = 1\\nvalue = [1, 0]'),\n",
       " Text(0.23880597014925373, 0.36428571428571427, 'gini = 0.0\\nsamples = 1\\nvalue = [1, 0]'),\n",
       " Text(0.24733475479744135, 0.37857142857142856, 'gini = 0.0\\nsamples = 1\\nvalue = [1, 0]'),\n",
       " Text(0.255863539445629, 0.39285714285714285, 'gini = 0.0\\nsamples = 1\\nvalue = [1, 0]'),\n",
       " Text(0.26439232409381663, 0.40714285714285714, 'gini = 0.0\\nsamples = 1\\nvalue = [1, 0]'),\n",
       " Text(0.27292110874200426, 0.42142857142857143, 'gini = 0.0\\nsamples = 1\\nvalue = [1, 0]'),\n",
       " Text(0.2814498933901919, 0.4357142857142857, 'gini = 0.0\\nsamples = 1\\nvalue = [1, 0]'),\n",
       " Text(0.2899786780383795, 0.45, 'gini = 0.0\\nsamples = 1\\nvalue = [1, 0]'),\n",
       " Text(0.29850746268656714, 0.4642857142857143, 'gini = 0.0\\nsamples = 1\\nvalue = [1, 0]'),\n",
       " Text(0.32409381663113007, 0.4785714285714286, 'x[4298] <= 0.525\\ngini = 0.469\\nsamples = 8\\nvalue = [3, 5]'),\n",
       " Text(0.31556503198294245, 0.4642857142857143, 'x[5702] <= 0.315\\ngini = 0.375\\nsamples = 4\\nvalue = [3, 1]'),\n",
       " Text(0.3070362473347548, 0.45, 'gini = 0.0\\nsamples = 3\\nvalue = [3, 0]'),\n",
       " Text(0.32409381663113007, 0.45, 'gini = 0.0\\nsamples = 1\\nvalue = [0, 1]'),\n",
       " Text(0.3326226012793177, 0.4642857142857143, 'gini = 0.0\\nsamples = 4\\nvalue = [0, 4]'),\n",
       " Text(0.36673773987206826, 0.4928571428571429, 'x[4325] <= 0.085\\ngini = 0.426\\nsamples = 13\\nvalue = [4, 9]'),\n",
       " Text(0.3582089552238806, 0.4785714285714286, 'x[5815] <= 0.181\\ngini = 0.298\\nsamples = 11\\nvalue = [2, 9]'),\n",
       " Text(0.34968017057569295, 0.4642857142857143, 'x[1952] <= 0.084\\ngini = 0.18\\nsamples = 10\\nvalue = [1, 9]'),\n",
       " Text(0.3411513859275053, 0.45, 'gini = 0.0\\nsamples = 9\\nvalue = [0, 9]'),\n",
       " Text(0.3582089552238806, 0.45, 'gini = 0.0\\nsamples = 1\\nvalue = [1, 0]'),\n",
       " Text(0.36673773987206826, 0.4642857142857143, 'gini = 0.0\\nsamples = 1\\nvalue = [1, 0]'),\n",
       " Text(0.3752665245202559, 0.4785714285714286, 'gini = 0.0\\nsamples = 2\\nvalue = [2, 0]'),\n",
       " Text(0.39232409381663114, 0.5071428571428571, 'x[2168] <= 0.284\\ngini = 0.444\\nsamples = 3\\nvalue = [2, 1]'),\n",
       " Text(0.3837953091684435, 0.4928571428571429, 'gini = 0.0\\nsamples = 2\\nvalue = [2, 0]'),\n",
       " Text(0.40085287846481876, 0.4928571428571429, 'gini = 0.0\\nsamples = 1\\nvalue = [0, 1]'),\n",
       " Text(0.3816631130063966, 0.5214285714285715, 'gini = 0.0\\nsamples = 2\\nvalue = [2, 0]'),\n",
       " Text(0.39019189765458423, 0.5357142857142857, 'gini = 0.0\\nsamples = 2\\nvalue = [2, 0]'),\n",
       " Text(0.39872068230277186, 0.55, 'gini = 0.0\\nsamples = 2\\nvalue = [2, 0]'),\n",
       " Text(0.4072494669509595, 0.5642857142857143, 'gini = 0.0\\nsamples = 2\\nvalue = [2, 0]'),\n",
       " Text(0.4157782515991471, 0.5785714285714286, 'gini = 0.0\\nsamples = 2\\nvalue = [2, 0]'),\n",
       " Text(0.42430703624733473, 0.5928571428571429, 'gini = 0.0\\nsamples = 2\\nvalue = [2, 0]'),\n",
       " Text(0.44989339019189767, 0.6071428571428571, 'x[2059] <= 0.26\\ngini = 0.49\\nsamples = 7\\nvalue = [4, 3]'),\n",
       " Text(0.44136460554371004, 0.5928571428571429, 'gini = 0.0\\nsamples = 4\\nvalue = [4, 0]'),\n",
       " Text(0.4584221748400853, 0.5928571428571429, 'gini = 0.0\\nsamples = 3\\nvalue = [0, 3]'),\n",
       " Text(0.47547974413646055, 0.6214285714285714, 'x[7215] <= 0.259\\ngini = 0.494\\nsamples = 9\\nvalue = [5, 4]'),\n",
       " Text(0.4669509594882729, 0.6071428571428571, 'gini = 0.0\\nsamples = 5\\nvalue = [5, 0]'),\n",
       " Text(0.4840085287846482, 0.6071428571428571, 'gini = 0.0\\nsamples = 4\\nvalue = [0, 4]'),\n",
       " Text(0.47121535181236673, 0.6357142857142857, 'gini = 0.0\\nsamples = 3\\nvalue = [3, 0]'),\n",
       " Text(0.47974413646055436, 0.65, 'gini = 0.0\\nsamples = 3\\nvalue = [3, 0]'),\n",
       " Text(0.488272921108742, 0.6642857142857143, 'gini = 0.0\\nsamples = 3\\nvalue = [3, 0]'),\n",
       " Text(0.5138592750533049, 0.6785714285714286, 'x[1835] <= 0.243\\ngini = 0.496\\nsamples = 11\\nvalue = [6, 5]'),\n",
       " Text(0.5053304904051172, 0.6642857142857143, 'gini = 0.0\\nsamples = 6\\nvalue = [6, 0]'),\n",
       " Text(0.5223880597014925, 0.6642857142857143, 'gini = 0.0\\nsamples = 5\\nvalue = [0, 5]'),\n",
       " Text(0.5565031982942431, 0.6928571428571428, 'x[6016] <= 0.322\\ngini = 0.494\\nsamples = 18\\nvalue = [8, 10]'),\n",
       " Text(0.5479744136460555, 0.6785714285714286, 'x[3970] <= 0.073\\ngini = 0.444\\nsamples = 12\\nvalue = [8, 4]'),\n",
       " Text(0.5394456289978679, 0.6642857142857143, 'x[3852] <= 0.127\\ngini = 0.198\\nsamples = 9\\nvalue = [8, 1]'),\n",
       " Text(0.5309168443496801, 0.65, 'gini = 0.0\\nsamples = 8\\nvalue = [8, 0]'),\n",
       " Text(0.5479744136460555, 0.65, 'gini = 0.0\\nsamples = 1\\nvalue = [0, 1]'),\n",
       " Text(0.5565031982942431, 0.6642857142857143, 'gini = 0.0\\nsamples = 3\\nvalue = [0, 3]'),\n",
       " Text(0.5650319829424307, 0.6785714285714286, 'gini = 0.0\\nsamples = 6\\nvalue = [0, 6]'),\n",
       " Text(0.5437100213219617, 0.7071428571428572, 'gini = 0.0\\nsamples = 4\\nvalue = [4, 0]'),\n",
       " Text(0.5522388059701493, 0.7214285714285714, 'gini = 0.0\\nsamples = 4\\nvalue = [4, 0]'),\n",
       " Text(0.5607675906183369, 0.7357142857142858, 'gini = 0.0\\nsamples = 5\\nvalue = [5, 0]'),\n",
       " Text(0.5948827292110874, 0.75, 'x[4386] <= 0.196\\ngini = 0.499\\nsamples = 19\\nvalue = [10, 9]'),\n",
       " Text(0.5778251599147122, 0.7357142857142858, 'x[3278] <= 0.184\\ngini = 0.219\\nsamples = 8\\nvalue = [7, 1]'),\n",
       " Text(0.5692963752665245, 0.7214285714285714, 'gini = 0.0\\nsamples = 7\\nvalue = [7, 0]'),\n",
       " Text(0.5863539445628998, 0.7214285714285714, 'gini = 0.0\\nsamples = 1\\nvalue = [0, 1]'),\n",
       " Text(0.6119402985074627, 0.7357142857142858, 'x[4386] <= 0.265\\ngini = 0.397\\nsamples = 11\\nvalue = [3, 8]'),\n",
       " Text(0.603411513859275, 0.7214285714285714, 'gini = 0.0\\nsamples = 5\\nvalue = [0, 5]'),\n",
       " Text(0.6204690831556503, 0.7214285714285714, 'x[3072] <= 0.125\\ngini = 0.5\\nsamples = 6\\nvalue = [3, 3]'),\n",
       " Text(0.6119402985074627, 0.7071428571428572, 'x[4386] <= 0.426\\ngini = 0.48\\nsamples = 5\\nvalue = [3, 2]'),\n",
       " Text(0.603411513859275, 0.6928571428571428, 'gini = 0.0\\nsamples = 2\\nvalue = [2, 0]'),\n",
       " Text(0.6204690831556503, 0.6928571428571428, 'x[632] <= 0.223\\ngini = 0.444\\nsamples = 3\\nvalue = [1, 2]'),\n",
       " Text(0.6119402985074627, 0.6785714285714286, 'gini = 0.0\\nsamples = 2\\nvalue = [0, 2]'),\n",
       " Text(0.6289978678038379, 0.6785714285714286, 'gini = 0.0\\nsamples = 1\\nvalue = [1, 0]'),\n",
       " Text(0.6289978678038379, 0.7071428571428572, 'gini = 0.0\\nsamples = 1\\nvalue = [0, 1]'),\n",
       " Text(0.5906183368869936, 0.7642857142857142, 'gini = 0.0\\nsamples = 5\\nvalue = [5, 0]'),\n",
       " Text(0.5991471215351812, 0.7785714285714286, 'gini = 0.0\\nsamples = 6\\nvalue = [6, 0]'),\n",
       " Text(0.6076759061833689, 0.7928571428571428, 'gini = 0.0\\nsamples = 8\\nvalue = [8, 0]'),\n",
       " Text(0.6162046908315565, 0.8071428571428572, 'gini = 0.0\\nsamples = 8\\nvalue = [8, 0]'),\n",
       " Text(0.6247334754797441, 0.8214285714285714, 'gini = 0.0\\nsamples = 9\\nvalue = [9, 0]'),\n",
       " Text(0.650319829424307, 0.8357142857142857, 'x[2846] <= 0.164\\ngini = 0.165\\nsamples = 11\\nvalue = [10, 1]'),\n",
       " Text(0.6417910447761194, 0.8214285714285714, 'gini = 0.0\\nsamples = 10\\nvalue = [10, 0]'),\n",
       " Text(0.6588486140724946, 0.8214285714285714, 'gini = 0.0\\nsamples = 1\\nvalue = [0, 1]'),\n",
       " Text(0.67590618336887, 0.85, 'x[3151] <= 0.099\\ngini = 0.153\\nsamples = 12\\nvalue = [11, 1]'),\n",
       " Text(0.6673773987206824, 0.8357142857142857, 'gini = 0.0\\nsamples = 11\\nvalue = [11, 0]'),\n",
       " Text(0.6844349680170576, 0.8357142857142857, 'gini = 0.0\\nsamples = 1\\nvalue = [0, 1]'),\n",
       " Text(0.6716417910447762, 0.8642857142857143, 'gini = 0.0\\nsamples = 13\\nvalue = [13, 0]'),\n",
       " Text(0.7100213219616205, 0.8785714285714286, 'x[7431] <= 0.111\\ngini = 0.172\\nsamples = 21\\nvalue = [19, 2]'),\n",
       " Text(0.7014925373134329, 0.8642857142857143, 'x[5748] <= 0.13\\ngini = 0.095\\nsamples = 20\\nvalue = [19, 1]'),\n",
       " Text(0.6929637526652452, 0.85, 'gini = 0.0\\nsamples = 19\\nvalue = [19, 0]'),\n",
       " Text(0.7100213219616205, 0.85, 'gini = 0.0\\nsamples = 1\\nvalue = [0, 1]'),\n",
       " Text(0.7185501066098081, 0.8642857142857143, 'gini = 0.0\\nsamples = 1\\nvalue = [0, 1]'),\n",
       " Text(0.7036247334754797, 0.8928571428571429, 'gini = 0.0\\nsamples = 18\\nvalue = [18, 0]'),\n",
       " Text(0.7611940298507462, 0.9071428571428571, 'x[5048] <= 0.142\\ngini = 0.219\\nsamples = 32\\nvalue = [28, 4]'),\n",
       " Text(0.7526652452025586, 0.8928571428571429, 'x[4558] <= 0.093\\ngini = 0.124\\nsamples = 30\\nvalue = [28, 2]'),\n",
       " Text(0.744136460554371, 0.8785714285714286, 'x[2075] <= 0.25\\ngini = 0.067\\nsamples = 29\\nvalue = [28, 1]'),\n",
       " Text(0.7356076759061834, 0.8642857142857143, 'gini = 0.0\\nsamples = 28\\nvalue = [28, 0]'),\n",
       " Text(0.7526652452025586, 0.8642857142857143, 'gini = 0.0\\nsamples = 1\\nvalue = [0, 1]'),\n",
       " Text(0.7611940298507462, 0.8785714285714286, 'gini = 0.0\\nsamples = 1\\nvalue = [0, 1]'),\n",
       " Text(0.7697228144989339, 0.8928571428571429, 'gini = 0.0\\nsamples = 2\\nvalue = [0, 2]'),\n",
       " Text(0.8038379530916845, 0.9214285714285714, 'x[3664] <= 0.185\\ngini = 0.142\\nsamples = 39\\nvalue = [36, 3]'),\n",
       " Text(0.7953091684434968, 0.9071428571428571, 'x[3922] <= 0.122\\ngini = 0.053\\nsamples = 37\\nvalue = [36, 1]'),\n",
       " Text(0.7867803837953091, 0.8928571428571429, 'gini = 0.0\\nsamples = 36\\nvalue = [36, 0]'),\n",
       " Text(0.8038379530916845, 0.8928571428571429, 'gini = 0.0\\nsamples = 1\\nvalue = [0, 1]'),\n",
       " Text(0.8123667377398721, 0.9071428571428571, 'gini = 0.0\\nsamples = 2\\nvalue = [0, 2]'),\n",
       " Text(0.7830490405117271, 0.9357142857142857, 'gini = 0.0\\nsamples = 45\\nvalue = [45, 0]'),\n",
       " Text(0.8742004264392325, 0.95, 'x[2881] <= 0.167\\ngini = 0.453\\nsamples = 141\\nvalue = [92, 49]'),\n",
       " Text(0.8464818763326226, 0.9357142857142857, 'x[6580] <= 0.105\\ngini = 0.162\\nsamples = 45\\nvalue = [41, 4]'),\n",
       " Text(0.837953091684435, 0.9214285714285714, 'x[6585] <= 0.117\\ngini = 0.127\\nsamples = 44\\nvalue = [41, 3]'),\n",
       " Text(0.8294243070362474, 0.9071428571428571, 'x[2155] <= 0.146\\ngini = 0.089\\nsamples = 43\\nvalue = [41, 2]'),\n",
       " Text(0.8208955223880597, 0.8928571428571429, 'x[3302] <= 0.163\\ngini = 0.046\\nsamples = 42\\nvalue = [41, 1]'),\n",
       " Text(0.8123667377398721, 0.8785714285714286, 'gini = 0.0\\nsamples = 41\\nvalue = [41, 0]'),\n",
       " Text(0.8294243070362474, 0.8785714285714286, 'gini = 0.0\\nsamples = 1\\nvalue = [0, 1]'),\n",
       " Text(0.837953091684435, 0.8928571428571429, 'gini = 0.0\\nsamples = 1\\nvalue = [0, 1]'),\n",
       " Text(0.8464818763326226, 0.9071428571428571, 'gini = 0.0\\nsamples = 1\\nvalue = [0, 1]'),\n",
       " Text(0.8550106609808102, 0.9214285714285714, 'gini = 0.0\\nsamples = 1\\nvalue = [0, 1]'),\n",
       " Text(0.9019189765458422, 0.9357142857142857, 'x[4386] <= 0.082\\ngini = 0.498\\nsamples = 96\\nvalue = [51, 45]'),\n",
       " Text(0.8805970149253731, 0.9214285714285714, 'x[6535] <= 0.075\\ngini = 0.482\\nsamples = 74\\nvalue = [30, 44]'),\n",
       " Text(0.8635394456289979, 0.9071428571428571, 'x[4786] <= 0.111\\ngini = 0.437\\nsamples = 62\\nvalue = [20, 42]'),\n",
       " Text(0.8550106609808102, 0.8928571428571429, 'x[6248] <= 0.087\\ngini = 0.388\\nsamples = 57\\nvalue = [15, 42]'),\n",
       " Text(0.8464818763326226, 0.8785714285714286, 'x[7215] <= 0.095\\ngini = 0.329\\nsamples = 53\\nvalue = [11, 42]'),\n",
       " Text(0.837953091684435, 0.8642857142857143, 'x[5567] <= 0.141\\ngini = 0.269\\nsamples = 50\\nvalue = [8, 42]'),\n",
       " Text(0.8294243070362474, 0.85, 'x[5801] <= 0.159\\ngini = 0.219\\nsamples = 48\\nvalue = [6, 42]'),\n",
       " Text(0.8208955223880597, 0.8357142857142857, 'x[5785] <= 0.158\\ngini = 0.159\\nsamples = 46\\nvalue = [4, 42]'),\n",
       " Text(0.8123667377398721, 0.8214285714285714, 'x[414] <= 0.117\\ngini = 0.124\\nsamples = 45\\nvalue = [3, 42]'),\n",
       " Text(0.8038379530916845, 0.8071428571428572, 'x[7233] <= 0.135\\ngini = 0.087\\nsamples = 44\\nvalue = [2, 42]'),\n",
       " Text(0.7953091684434968, 0.7928571428571428, 'x[2958] <= 0.096\\ngini = 0.045\\nsamples = 43\\nvalue = [1, 42]'),\n",
       " Text(0.7867803837953091, 0.7785714285714286, 'gini = 0.0\\nsamples = 42\\nvalue = [0, 42]'),\n",
       " Text(0.8038379530916845, 0.7785714285714286, 'gini = 0.0\\nsamples = 1\\nvalue = [1, 0]'),\n",
       " Text(0.8123667377398721, 0.7928571428571428, 'gini = 0.0\\nsamples = 1\\nvalue = [1, 0]'),\n",
       " Text(0.8208955223880597, 0.8071428571428572, 'gini = 0.0\\nsamples = 1\\nvalue = [1, 0]'),\n",
       " Text(0.8294243070362474, 0.8214285714285714, 'gini = 0.0\\nsamples = 1\\nvalue = [1, 0]'),\n",
       " Text(0.837953091684435, 0.8357142857142857, 'gini = 0.0\\nsamples = 2\\nvalue = [2, 0]'),\n",
       " Text(0.8464818763326226, 0.85, 'gini = 0.0\\nsamples = 2\\nvalue = [2, 0]'),\n",
       " Text(0.8550106609808102, 0.8642857142857143, 'gini = 0.0\\nsamples = 3\\nvalue = [3, 0]'),\n",
       " Text(0.8635394456289979, 0.8785714285714286, 'gini = 0.0\\nsamples = 4\\nvalue = [4, 0]'),\n",
       " Text(0.8720682302771855, 0.8928571428571429, 'gini = 0.0\\nsamples = 5\\nvalue = [5, 0]'),\n",
       " Text(0.8976545842217484, 0.9071428571428571, 'x[1319] <= 0.169\\ngini = 0.278\\nsamples = 12\\nvalue = [10, 2]'),\n",
       " Text(0.8891257995735607, 0.8928571428571429, 'x[1329] <= 0.184\\ngini = 0.165\\nsamples = 11\\nvalue = [10, 1]'),\n",
       " Text(0.8805970149253731, 0.8785714285714286, 'gini = 0.0\\nsamples = 10\\nvalue = [10, 0]'),\n",
       " Text(0.8976545842217484, 0.8785714285714286, 'gini = 0.0\\nsamples = 1\\nvalue = [0, 1]'),\n",
       " Text(0.906183368869936, 0.8928571428571429, 'gini = 0.0\\nsamples = 1\\nvalue = [0, 1]'),\n",
       " Text(0.9232409381663113, 0.9214285714285714, 'x[1577] <= 0.191\\ngini = 0.087\\nsamples = 22\\nvalue = [21, 1]'),\n",
       " Text(0.9147121535181236, 0.9071428571428571, 'gini = 0.0\\nsamples = 21\\nvalue = [21, 0]'),\n",
       " Text(0.9317697228144989, 0.9071428571428571, 'gini = 0.0\\nsamples = 1\\nvalue = [0, 1]'),\n",
       " Text(0.8414179104477612, 0.9642857142857143, 'gini = 0.0\\nsamples = 75\\nvalue = [75, 0]'),\n",
       " Text(0.9658848614072495, 0.9785714285714285, 'x[6809] <= 0.2\\ngini = 0.159\\nsamples = 126\\nvalue = [115, 11]'),\n",
       " Text(0.9488272921108742, 0.9642857142857143, 'x[1288] <= 0.149\\ngini = 0.036\\nsamples = 108\\nvalue = [106, 2]'),\n",
       " Text(0.9402985074626866, 0.95, 'x[6526] <= 0.154\\ngini = 0.019\\nsamples = 107\\nvalue = [106, 1]'),\n",
       " Text(0.9317697228144989, 0.9357142857142857, 'gini = 0.0\\nsamples = 106\\nvalue = [106, 0]'),\n",
       " Text(0.9488272921108742, 0.9357142857142857, 'gini = 0.0\\nsamples = 1\\nvalue = [0, 1]'),\n",
       " Text(0.9573560767590619, 0.95, 'gini = 0.0\\nsamples = 1\\nvalue = [0, 1]'),\n",
       " Text(0.9829424307036247, 0.9642857142857143, 'x[6218] <= 0.119\\ngini = 0.5\\nsamples = 18\\nvalue = [9, 9]'),\n",
       " Text(0.9744136460554371, 0.95, 'x[311] <= 0.077\\ngini = 0.48\\nsamples = 15\\nvalue = [6, 9]'),\n",
       " Text(0.9658848614072495, 0.9357142857142857, 'x[6248] <= 0.064\\ngini = 0.375\\nsamples = 12\\nvalue = [3, 9]'),\n",
       " Text(0.9573560767590619, 0.9214285714285714, 'x[1912] <= 0.138\\ngini = 0.18\\nsamples = 10\\nvalue = [1, 9]'),\n",
       " Text(0.9488272921108742, 0.9071428571428571, 'gini = 0.0\\nsamples = 9\\nvalue = [0, 9]'),\n",
       " Text(0.9658848614072495, 0.9071428571428571, 'gini = 0.0\\nsamples = 1\\nvalue = [1, 0]'),\n",
       " Text(0.9744136460554371, 0.9214285714285714, 'gini = 0.0\\nsamples = 2\\nvalue = [2, 0]'),\n",
       " Text(0.9829424307036247, 0.9357142857142857, 'gini = 0.0\\nsamples = 3\\nvalue = [3, 0]'),\n",
       " Text(0.9914712153518124, 0.95, 'gini = 0.0\\nsamples = 3\\nvalue = [3, 0]')]"
      ]
     },
     "execution_count": 104,
     "metadata": {},
     "output_type": "execute_result"
    },
    {
     "data": {
      "image/png": "[encoded data removed]",
      "text/plain": [
       "<Figure size 640x480 with 1 Axes>"
      ]
     },
     "metadata": {},
     "output_type": "display_data"
    }
   ],
   "source": [
    "tree.plot_tree(classifier)"
   ]
  },
  {
   "cell_type": "code",
   "execution_count": 108,
   "metadata": {},
   "outputs": [],
   "source": [
    "y_pred=classifier.predict(x_test_features)"
   ]
  },
  {
   "cell_type": "code",
   "execution_count": 110,
   "metadata": {},
   "outputs": [
    {
     "name": "stdout",
     "output_type": "stream",
     "text": [
      "the accuracy of the model is: 96.7713004484305 %\n"
     ]
    }
   ],
   "source": [
    "print(f'the accuracy of the model is: {accuracy_score(y_test,y_pred)*100} %')"
   ]
  }
 ],
 "metadata": {
  "kernelspec": {
   "display_name": "Python 3",
   "language": "python",
   "name": "python3"
  },
  "language_info": {
   "codemirror_mode": {
    "name": "ipython",
    "version": 3
   },
   "file_extension": ".py",
   "mimetype": "text/x-python",
   "name": "python",
   "nbconvert_exporter": "python",
   "pygments_lexer": "ipython3",
   "version": "3.11.3"
  },
  "orig_nbformat": 4
 },
 "nbformat": 4,
 "nbformat_minor": 2
}
